{
 "cells": [
  {
   "cell_type": "markdown",
   "metadata": {},
   "source": [
    "# SKLearn v. R - Comparisons on an Auto dataset.\n",
    "Firstly we'll import the Auto.csv file via pandas and take a look at the data.\n",
    "We'll start by printing the first few rows via the head() function and then output the dimensions of the data.\n",
    "\n",
    "## 1) Reading the data"
   ]
  },
  {
   "cell_type": "code",
   "execution_count": 1,
   "metadata": {},
   "outputs": [
    {
     "name": "stdout",
     "output_type": "stream",
     "text": [
      "    mpg  cylinders  displacement  horsepower  weight  acceleration  year  \\\n",
      "0  18.0          8         307.0         130    3504          12.0  70.0   \n",
      "1  15.0          8         350.0         165    3693          11.5  70.0   \n",
      "2  18.0          8         318.0         150    3436          11.0  70.0   \n",
      "3  16.0          8         304.0         150    3433          12.0  70.0   \n",
      "4  17.0          8         302.0         140    3449           NaN  70.0   \n",
      "\n",
      "   origin                       name  \n",
      "0       1  chevrolet chevelle malibu  \n",
      "1       1          buick skylark 320  \n",
      "2       1         plymouth satellite  \n",
      "3       1              amc rebel sst  \n",
      "4       1                ford torino  \n",
      "\n",
      " (392, 9)\n"
     ]
    }
   ],
   "source": [
    "import pandas as pd\n",
    "\n",
    "df = pd.read_csv('Auto.csv')\n",
    "print(df.head()) #display first few rows\n",
    "print(\"\\n\", df.shape) # Display dimensions of dataframe"
   ]
  },
  {
   "cell_type": "markdown",
   "metadata": {},
   "source": [
    "## 2) Data Exploration\n",
    "Next we'll want to take a closer look at the mpg, weight and year columns. We'll do this via the .describe method."
   ]
  },
  {
   "cell_type": "code",
   "execution_count": 2,
   "metadata": {},
   "outputs": [
    {
     "name": "stdout",
     "output_type": "stream",
     "text": [
      "              mpg\n",
      "count  392.000000\n",
      "mean    23.445918\n",
      "std      7.805007\n",
      "min      9.000000\n",
      "25%     17.000000\n",
      "50%     22.750000\n",
      "75%     29.000000\n",
      "max     46.600000 \n",
      "\n",
      "            weight\n",
      "count   392.000000\n",
      "mean   2977.584184\n",
      "std     849.402560\n",
      "min    1613.000000\n",
      "25%    2225.250000\n",
      "50%    2803.500000\n",
      "75%    3614.750000\n",
      "max    5140.000000 \n",
      "\n",
      "             year\n",
      "count  390.000000\n",
      "mean    76.010256\n",
      "std      3.668093\n",
      "min     70.000000\n",
      "25%     73.000000\n",
      "50%     76.000000\n",
      "75%     79.000000\n",
      "max     82.000000\n"
     ]
    }
   ],
   "source": [
    "# subset the columns to run .describe()\n",
    "col_mpg = df[['mpg']]\n",
    "col_weight = df[['weight']]\n",
    "col_year = df[['year']]\n",
    "\n",
    "print(col_mpg.describe(), '\\n')\n",
    "print(col_weight.describe(), '\\n')\n",
    "print(col_year.describe())"
   ]
  },
  {
   "cell_type": "markdown",
   "metadata": {},
   "source": [
    "So as we can see from .describe(), we can deduce the following.\n",
    "- MPG average is approximately 23.446 miles per gallon. It's range is [9, 46] or 37 mpg.\n",
    "- The average weight is approximately 2,977.584 lbs. It's range is [1613, 5140] or 3,527 lbs.\n",
    "- The average year of the car model is approximately 76.010. It's range is [70, 82] or 12 years."
   ]
  },
  {
   "cell_type": "code",
   "execution_count": 3,
   "metadata": {},
   "outputs": [],
   "source": [
    "# setting values for future reference\n",
    "avg_mpg = 23.445918\n",
    "avg_weight = 2977.584184\n",
    "avg_year = 76.010256"
   ]
  },
  {
   "cell_type": "markdown",
   "metadata": {},
   "source": [
    "## 3) Datatype exploration\n",
    "Next, we'll want to explore the datatypes of our columns."
   ]
  },
  {
   "cell_type": "code",
   "execution_count": 4,
   "metadata": {},
   "outputs": [
    {
     "name": "stdout",
     "output_type": "stream",
     "text": [
      "mpg             float64\n",
      "cylinders         int64\n",
      "displacement    float64\n",
      "horsepower        int64\n",
      "weight            int64\n",
      "acceleration    float64\n",
      "year            float64\n",
      "origin            int64\n",
      "name             object\n",
      "dtype: object\n"
     ]
    }
   ],
   "source": [
    "print(df.dtypes)"
   ]
  },
  {
   "cell_type": "markdown",
   "metadata": {},
   "source": [
    "We want to change our cylinder and origin columns to be a categorical datatype. We'll change cylinder via cat.codes and we'll do the origin column without cat.codes."
   ]
  },
  {
   "cell_type": "code",
   "execution_count": 5,
   "metadata": {},
   "outputs": [
    {
     "name": "stdout",
     "output_type": "stream",
     "text": [
      "mpg             float64\n",
      "cylinders          int8\n",
      "displacement    float64\n",
      "horsepower        int64\n",
      "weight            int64\n",
      "acceleration    float64\n",
      "year            float64\n",
      "origin            int64\n",
      "name             object\n",
      "dtype: object \n",
      "\n",
      "    mpg  cylinders  displacement  horsepower  weight  acceleration  year  \\\n",
      "0  18.0          4         307.0         130    3504          12.0  70.0   \n",
      "1  15.0          4         350.0         165    3693          11.5  70.0   \n",
      "2  18.0          4         318.0         150    3436          11.0  70.0   \n",
      "3  16.0          4         304.0         150    3433          12.0  70.0   \n",
      "4  17.0          4         302.0         140    3449           NaN  70.0   \n",
      "\n",
      "   origin                       name  \n",
      "0       1  chevrolet chevelle malibu  \n",
      "1       1          buick skylark 320  \n",
      "2       1         plymouth satellite  \n",
      "3       1              amc rebel sst  \n",
      "4       1                ford torino   \n",
      "\n",
      "mpg              float64\n",
      "cylinders           int8\n",
      "displacement     float64\n",
      "horsepower         int64\n",
      "weight             int64\n",
      "acceleration     float64\n",
      "year             float64\n",
      "origin          category\n",
      "name              object\n",
      "dtype: object \n",
      "\n",
      "    mpg  cylinders  displacement  horsepower  weight  acceleration  year  \\\n",
      "0  18.0          4         307.0         130    3504          12.0  70.0   \n",
      "1  15.0          4         350.0         165    3693          11.5  70.0   \n",
      "2  18.0          4         318.0         150    3436          11.0  70.0   \n",
      "3  16.0          4         304.0         150    3433          12.0  70.0   \n",
      "4  17.0          4         302.0         140    3449           NaN  70.0   \n",
      "\n",
      "  origin                       name  \n",
      "0      1  chevrolet chevelle malibu  \n",
      "1      1          buick skylark 320  \n",
      "2      1         plymouth satellite  \n",
      "3      1              amc rebel sst  \n",
      "4      1                ford torino  \n"
     ]
    }
   ],
   "source": [
    "df1 = df.copy()\n",
    "df1.cylinders = df1.cylinders.astype('category').cat.codes\n",
    "print(df1.dtypes, \"\\n\")\n",
    "print(df1.head(), \"\\n\")\n",
    "\n",
    "# w/out cat.code.\n",
    "df2 = df1.copy()\n",
    "df2.origin = df1.origin.astype('category')\n",
    "print(df2.dtypes, \"\\n\")\n",
    "print(df2.head())\n"
   ]
  },
  {
   "cell_type": "markdown",
   "metadata": {},
   "source": [
    "## 4) Dealing with NAs\n",
    "We'll detect any NAs in our data and replace with the average value for the respective column."
   ]
  },
  {
   "cell_type": "code",
   "execution_count": 6,
   "metadata": {},
   "outputs": [
    {
     "data": {
      "text/plain": [
       "mpg             0\n",
       "cylinders       0\n",
       "displacement    0\n",
       "horsepower      0\n",
       "weight          0\n",
       "acceleration    1\n",
       "year            2\n",
       "origin          0\n",
       "name            0\n",
       "dtype: int64"
      ]
     },
     "execution_count": 6,
     "metadata": {},
     "output_type": "execute_result"
    }
   ],
   "source": [
    "df2.isnull().sum()"
   ]
  },
  {
   "cell_type": "markdown",
   "metadata": {},
   "source": [
    "We have two columns with NAs, acceleration and year. We'll purge those rows to get a cleaner data set."
   ]
  },
  {
   "cell_type": "code",
   "execution_count": 7,
   "metadata": {},
   "outputs": [
    {
     "name": "stdout",
     "output_type": "stream",
     "text": [
      "\n",
      " Dimensions of dropped NA rows: (389, 9) \n",
      " mpg              float64\n",
      "cylinders           int8\n",
      "displacement     float64\n",
      "horsepower         int64\n",
      "weight             int64\n",
      "acceleration     float64\n",
      "year             float64\n",
      "origin          category\n",
      "name              object\n",
      "dtype: object\n"
     ]
    }
   ],
   "source": [
    "df3 = df2.copy()\n",
    "df3 = df3.dropna()\n",
    "print('\\n Dimensions of dropped NA rows:', df3.shape, '\\n', df3.dtypes)"
   ]
  },
  {
   "cell_type": "markdown",
   "metadata": {},
   "source": [
    "## 5) Modify Columns\n",
    "Compare mpg values with the average mpg. If mpg > mpg_average, then assign value to '1' in new categorical mpg column, mpg_high."
   ]
  },
  {
   "cell_type": "code",
   "execution_count": 8,
   "metadata": {},
   "outputs": [
    {
     "name": "stdout",
     "output_type": "stream",
     "text": [
      "  mpg_high  cylinders  displacement  horsepower  weight  acceleration  year  \\\n",
      "0        0          4         307.0         130    3504          12.0  70.0   \n",
      "1        0          4         350.0         165    3693          11.5  70.0   \n",
      "2        0          4         318.0         150    3436          11.0  70.0   \n",
      "3        0          4         304.0         150    3433          12.0  70.0   \n",
      "6        0          4         454.0         220    4354           9.0  70.0   \n",
      "\n",
      "  origin  \n",
      "0      1  \n",
      "1      1  \n",
      "2      1  \n",
      "3      1  \n",
      "6      1  \n"
     ]
    }
   ],
   "source": [
    "import numpy as np #we'll need this later\n",
    "\n",
    "mpgList = df3[\"mpg\"].tolist()\n",
    "mpgList = list(np.array(mpgList, dtype=float))\n",
    "mpgListHigh = list()\n",
    "\n",
    "\n",
    "for i in range(0, len(mpgList)):\n",
    "    if mpgList[i] > avg_mpg:\n",
    "        mpgListHigh.append(1)\n",
    "    else:\n",
    "        mpgListHigh.append(0)\n",
    "\n",
    "df4 = df3.copy()\n",
    "# create mpg_high col\n",
    "df4.insert(loc = 1, column= 'mpg_high', value= mpgListHigh)\n",
    "# categorize mpg_high\n",
    "df4.mpg_high = df4.mpg_high.astype('category')\n",
    "\n",
    "#deleting mpg and name column\n",
    "\n",
    "del df4['mpg']\n",
    "del df4['name']\n",
    "print(df4.head())"
   ]
  },
  {
   "cell_type": "markdown",
   "metadata": {},
   "source": [
    "## 6) Data exploration w/ graphs\n",
    "We'll plot the data of the new dataframe with seaborn"
   ]
  },
  {
   "cell_type": "code",
   "execution_count": 20,
   "metadata": {},
   "outputs": [
    {
     "data": {
      "text/plain": [
       "<seaborn.axisgrid.FacetGrid at 0x7fc10b5145b0>"
      ]
     },
     "execution_count": 20,
     "metadata": {},
     "output_type": "execute_result"
    },
    {
     "data": {
      "image/png": "[encoded data removed]",
      "text/plain": [
       "<Figure size 500x500 with 1 Axes>"
      ]
     },
     "metadata": {},
     "output_type": "display_data"
    }
   ],
   "source": [
    "import seaborn as sb\n",
    "sb.catplot(x=\"mpg_high\", kind = 'count', data= df4) "
   ]
  },
  {
   "cell_type": "code",
   "execution_count": 21,
   "metadata": {},
   "outputs": [
    {
     "data": {
      "text/plain": [
       "<seaborn.axisgrid.FacetGrid at 0x7fc10b61b070>"
      ]
     },
     "execution_count": 21,
     "metadata": {},
     "output_type": "execute_result"
    },
    {
     "data": {
      "image/png": "[encoded data removed]",
      "text/plain": [
       "<Figure size 579.611x500 with 1 Axes>"
      ]
     },
     "metadata": {},
     "output_type": "display_data"
    }
   ],
   "source": [
    "sb.relplot(x=\"horsepower\", y=\"weight\", data= df4, hue=df4.mpg_high, style=df4.mpg_high)"
   ]
  },
  {
   "cell_type": "code",
   "execution_count": 22,
   "metadata": {},
   "outputs": [
    {
     "data": {
      "text/plain": [
       "<AxesSubplot: xlabel='mpg_high', ylabel='weight'>"
      ]
     },
     "execution_count": 22,
     "metadata": {},
     "output_type": "execute_result"
    },
    {
     "data": {
      "image/png": "[encoded data removed]",
      "text/plain": [
       "<Figure size 640x480 with 1 Axes>"
      ]
     },
     "metadata": {},
     "output_type": "display_data"
    }
   ],
   "source": [
    "sb.boxplot(x='mpg_high', y='weight', data = df4)"
   ]
  },
  {
   "cell_type": "markdown",
   "metadata": {},
   "source": [
    "Findings from the plots:\n",
    "1. The amount of cars in the dataset is pretty evenly split across cars that get a high mpg and a low mpg, with a difference of around 10 to 15 cars swinging towards being less gas efficient.\n",
    "2. High mpg vehicles seem to have lower horsepower than the lower mpg vehicles.\n",
    "3. High mpg vehicles weigh less than low mpg vehicles, which makes sense as one would need more force to push a heavier load."
   ]
  },
  {
   "cell_type": "markdown",
   "metadata": {},
   "source": [
    "## 7) Train/Test"
   ]
  },
  {
   "cell_type": "code",
   "execution_count": 26,
   "metadata": {},
   "outputs": [
    {
     "name": "stdout",
     "output_type": "stream",
     "text": [
      "train shape: (311, 6)\n",
      "test shape (78, 6)\n"
     ]
    }
   ],
   "source": [
    "from sklearn.model_selection import train_test_split\n",
    "#print(df4.head())\n",
    "x = df4.iloc[:,np.r_[2:8]]\n",
    "y = df4.mpg_high\n",
    "\n",
    "x_train, x_test, y_train, y_test = train_test_split(x, y, test_size=0.2, random_state=1234)\n",
    "print('train shape:', x_train.shape)\n",
    "print('test shape', x_test.shape)"
   ]
  },
  {
   "cell_type": "markdown",
   "metadata": {},
   "source": [
    "## 8) Logistic Regression"
   ]
  },
  {
   "cell_type": "code",
   "execution_count": 54,
   "metadata": {},
   "outputs": [
    {
     "name": "stdout",
     "output_type": "stream",
     "text": [
      "              precision    recall  f1-score   support\n",
      "\n",
      "           0       0.98      0.82      0.89        50\n",
      "           1       0.75      0.96      0.84        28\n",
      "\n",
      "    accuracy                           0.87        78\n",
      "   macro avg       0.86      0.89      0.87        78\n",
      "weighted avg       0.89      0.87      0.87        78\n",
      "\n",
      "accuracy score:  0.8717948717948718\n"
     ]
    },
    {
     "data": {
      "text/plain": [
       "array([[41,  9],\n",
       "       [ 1, 27]])"
      ]
     },
     "execution_count": 54,
     "metadata": {},
     "output_type": "execute_result"
    }
   ],
   "source": [
    "from sklearn.linear_model import LogisticRegression\n",
    "from sklearn.metrics import classification_report\n",
    "from sklearn.metrics import confusion_matrix\n",
    "\n",
    "lr = LogisticRegression(solver='lbfgs')\n",
    "lr.fit(x_train, y_train)\n",
    "lr.score(x_train, y_train)\n",
    "\n",
    "#prediction\n",
    "predlr = lr.predict(x_test)\n",
    "\n",
    "print(classification_report(y_test, predlr))\n",
    "\n",
    "print('accuracy score: ', accuracy_score(y_test, predlr))\n",
    "\n",
    "confusion_matrix(y_test, predlr)"
   ]
  },
  {
   "cell_type": "markdown",
   "metadata": {},
   "source": [
    "## 9) Decision Tree"
   ]
  },
  {
   "cell_type": "code",
   "execution_count": 57,
   "metadata": {},
   "outputs": [
    {
     "name": "stdout",
     "output_type": "stream",
     "text": [
      "              precision    recall  f1-score   support\n",
      "\n",
      "           0       0.98      0.86      0.91        50\n",
      "           1       0.79      0.96      0.87        28\n",
      "\n",
      "    accuracy                           0.90        78\n",
      "   macro avg       0.89      0.91      0.89        78\n",
      "weighted avg       0.91      0.90      0.90        78\n",
      "\n",
      "accuracy score:  0.8974358974358975\n"
     ]
    },
    {
     "data": {
      "text/plain": [
       "array([[43,  7],\n",
       "       [ 1, 27]])"
      ]
     },
     "execution_count": 57,
     "metadata": {},
     "output_type": "execute_result"
    }
   ],
   "source": [
    "from sklearn.tree import DecisionTreeClassifier\n",
    "\n",
    "dt = DecisionTreeClassifier()\n",
    "dt.fit(x_train, y_train)\n",
    "\n",
    "#predictions\n",
    "preddt = dt.predict(x_test)\n",
    "#eval\n",
    "print(classification_report(y_test, preddt))\n",
    "print('accuracy score: ', accuracy_score(y_test, preddt))\n",
    "confusion_matrix(y_test, preddt)"
   ]
  },
  {
   "cell_type": "markdown",
   "metadata": {},
   "source": [
    "## 10) Neural Networks"
   ]
  },
  {
   "cell_type": "code",
   "execution_count": 58,
   "metadata": {},
   "outputs": [
    {
     "name": "stdout",
     "output_type": "stream",
     "text": [
      "accuracy =  0.8974358974358975\n",
      "              precision    recall  f1-score   support\n",
      "\n",
      "           0       0.94      0.90      0.92        50\n",
      "           1       0.83      0.89      0.86        28\n",
      "\n",
      "    accuracy                           0.90        78\n",
      "   macro avg       0.89      0.90      0.89        78\n",
      "weighted avg       0.90      0.90      0.90        78\n",
      "\n",
      "accuracy of nn2 =  0.8846153846153846\n",
      "              precision    recall  f1-score   support\n",
      "\n",
      "           0       1.00      0.82      0.90        50\n",
      "           1       0.76      1.00      0.86        28\n",
      "\n",
      "    accuracy                           0.88        78\n",
      "   macro avg       0.88      0.91      0.88        78\n",
      "weighted avg       0.91      0.88      0.89        78\n",
      "\n"
     ]
    }
   ],
   "source": [
    "from sklearn import preprocessing\n",
    "from sklearn.neural_network import MLPClassifier\n",
    "\n",
    "scaler = preprocessing.StandardScaler().fit(x_train)\n",
    "\n",
    "x_train_scaled = scaler.transform(x_train)\n",
    "x_test_scaled = scaler.transform(x_test)\n",
    "\n",
    "\n",
    "nnlb = MLPClassifier(solver='lbfgs', hidden_layer_sizes=(4, 2), max_iter=1500, random_state=1234)\n",
    "nnlb.fit(x_train_scaled, y_train)\n",
    "prednnlb = nnlb.predict(x_test_scaled)\n",
    "print('accuracy = ', accuracy_score(y_test, prednnlb))\n",
    "confusion_matrix(y_test, prednnlb)\n",
    "print(classification_report(y_test, prednnlb))\n",
    "\n",
    "## New settings\n",
    "nn2 = MLPClassifier(solver='sgd', hidden_layer_sizes=(8,), max_iter = 1500, random_state = 1234)\n",
    "nn2.fit(x_train_scaled, y_train)\n",
    "prednn2 = nn2.predict(x_test_scaled)\n",
    "print('accuracy of nn2 = ', accuracy_score(y_test, prednn2))\n",
    "confusion_matrix(y_test, prednn2)\n",
    "print(classification_report(y_test, prednn2))"
   ]
  },
  {
   "cell_type": "markdown",
   "metadata": {},
   "source": [
    "The separated layer in the first neural network slightly outperformed the second one that used one big layer with as many nodes as there are columns/predictors in the data. Based on the network organization, separating nodes into layers will give us better results because we are able to caputre other relationships other than strictly linear ones. Though we run the risk of overfitting our data this way."
   ]
  },
  {
   "cell_type": "markdown",
   "metadata": {},
   "source": [
    "## 11) Conclusions/Analysis\n",
    "The algorithm that performed best was the first neural network and the decision tree with an accuracy of  0.8974358974358975\n",
    "\n",
    "LogReg stats: accuracy: 0.8717948717948718, recall: 0.86, precsion: 0.89\n",
    "DT stats: accuracy: 0.8974358974358975, recall: 0.91, precsion: 0.89\n",
    "NN1 stats: accuracy: 0.8974358974358975, recall: 0.90, precsion: 0.89\n",
    "NN2 stats: accuracy: 0.8846153846153846, recall: 0.91, precsion: 0.88\n",
    "\n",
    "Since the accuracy scores were the same for the decison tree and the first neural network, my guess is that the networking layer of nodes for the NN1 mimicked the decision tree behavior too much or just overfit the data too drastically.\n",
    "\n",
    "R v. Python is an interesting one. I feel like the fluidity of the IDEs performances on my laptop is far smoother by importing a python library than using R. I really enjoy R, but my inexperience with it has me confused whenever I use certain functions. I feel like numpy, pandas and sklearn methods are somehow easier to understand and unpack. I find both very pleasant tools, but I feel like I would get more done with python."
   ]
  }
 ],
 "metadata": {
  "kernelspec": {
   "display_name": "Python 3.10.6 64-bit",
   "language": "python",
   "name": "python3"
  },
  "language_info": {
   "codemirror_mode": {
    "name": "ipython",
    "version": 3
   },
   "file_extension": ".py",
   "mimetype": "text/x-python",
   "name": "python",
   "nbconvert_exporter": "python",
   "pygments_lexer": "ipython3",
   "version": "3.10.6"
  },
  "orig_nbformat": 4,
  "vscode": {
   "interpreter": {
    "hash": "916dbcbb3f70747c44a77c7bcd40155683ae19c65e1c03b4aa3499c5328201f1"
   }
  }
 },
 "nbformat": 4,
 "nbformat_minor": 2
}
